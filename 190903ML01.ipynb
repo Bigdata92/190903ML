{
  "nbformat": 4,
  "nbformat_minor": 0,
  "metadata": {
    "colab": {
      "name": "190903ML01.ipynb",
      "version": "0.3.2",
      "provenance": [],
      "collapsed_sections": [],
      "include_colab_link": true
    },
    "kernelspec": {
      "name": "python3",
      "display_name": "Python 3"
    }
  },
  "cells": [
    {
      "cell_type": "markdown",
      "metadata": {
        "id": "view-in-github",
        "colab_type": "text"
      },
      "source": [
        "<a href=\"https://colab.research.google.com/github/Bigdata92/190903ML/blob/master/190903ML01.ipynb\" target=\"_parent\"><img src=\"https://colab.research.google.com/assets/colab-badge.svg\" alt=\"Open In Colab\"/></a>"
      ]
    },
    {
      "cell_type": "code",
      "metadata": {
        "id": "Cw33uOli1J3o",
        "colab_type": "code",
        "outputId": "ed69850d-8fd5-4443-9390-7ea359c70827",
        "colab": {
          "base_uri": "https://localhost:8080/",
          "height": 36
        }
      },
      "source": [
        "print(\"hello world\")"
      ],
      "execution_count": 0,
      "outputs": [
        {
          "output_type": "stream",
          "text": [
            "hello world\n"
          ],
          "name": "stdout"
        }
      ]
    },
    {
      "cell_type": "code",
      "metadata": {
        "id": "Y72I3lIq1UJt",
        "colab_type": "code",
        "colab": {}
      },
      "source": [
        "#!apt-get update -qq\n",
        "#!apt-get install fonts\n",
        "#! - os명령\n"
      ],
      "execution_count": 0,
      "outputs": []
    },
    {
      "cell_type": "code",
      "metadata": {
        "id": "bORbaDRY1-RK",
        "colab_type": "code",
        "outputId": "de1d6715-d4cb-4c2c-aeaf-69ebb3c13741",
        "colab": {
          "base_uri": "https://localhost:8080/",
          "height": 36
        }
      },
      "source": [
        "import platform\n",
        "platform.python_version()"
      ],
      "execution_count": 0,
      "outputs": [
        {
          "output_type": "execute_result",
          "data": {
            "text/plain": [
              "'3.6.8'"
            ]
          },
          "metadata": {
            "tags": []
          },
          "execution_count": 2
        }
      ]
    },
    {
      "cell_type": "code",
      "metadata": {
        "id": "NZs4U5Nt2CoC",
        "colab_type": "code",
        "colab": {}
      },
      "source": [
        "# 큰제목\n",
        "## 중간 제목\n",
        "### 작은 제목\n",
        "\n"
      ],
      "execution_count": 0,
      "outputs": []
    }
  ]
}